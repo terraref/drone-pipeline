{
 "cells": [
  {
   "cell_type": "markdown",
   "metadata": {},
   "source": [
    "# [short title reflecting purpose of tutorial]\n",
    "This Jupyter Notebook tutorial uses Python to show a user ... <!-- replace this text with something meaningful about the tutorial -->\n",
    "\n",
    "There are many comments throughout this template, be sure to view them!"
   ]
  },
  {
   "cell_type": "markdown",
   "metadata": {},
   "source": [
    "---\n",
    "<!-- Replace these contents with something meaningful to the tutorial\n",
    "If your titles are single words, you can just use the title (in lowercase) as the link\n",
    "More complex titles will need to be anchored by adding an HTML anchor tag with the title: <a name=\"my_name\"></a>\n",
    "The anchor is then used as the link.\n",
    "NOTE: once you use an anchor you will need to anchor all titles to use as a link\n",
    "-->\n",
    "### Contents\n",
    "- [Overview](#overview)\n",
    "- [Audience](#audience)\n",
    "- [What to expect](#expect)\n",
    "- [Prerequisites](#prerequisites)\n",
    "- [Cautions](#cautions)\n",
    "- [Step 1 - Python Imports and Setup](#step1)\n",
    "- [Step 2 - the next step](#step2)\n",
    "- [Completed](#completed)\n",
    "- [Feedback](#feedback)\n",
    "- [References](#references)\n",
    "- [Acknowledgements](#acknowledgements)\n",
    "---"
   ]
  },
  {
   "cell_type": "markdown",
   "metadata": {},
   "source": [
    "## Overview\n",
    "<!-- Briefly what the tutorial is about -->\n",
    "This tutorial covers ... <!-- replace with a brief explanation on what the tutorial covers - details come later -->.\n",
    "Completing this tutorial will ... <!-- short sentence on what the user can expect after completing the tutorial; include a new skill if relevent -->.\n",
    "\n",
    "## Audience\n",
    "<!-- Identify who the tutorial is geared towards -->\n",
    "This tutorial is geared towards people that ... <!-- set the background expectation of who the audience is -->.\n",
    "It will also be helpful, but not required, to have ... <!-- if there's a skill that's helpful but not required, list it here -->.\n",
    "This notebook might also be of interest if you have a background in ... <!-- what other skills might someone posess that would make them want to use the tutorial -->.\n",
    "\n",
    "## Time to complete <a name=\"completionTime\"></a>\n",
    "You can expect to complete this tutorial in ... <!-- give a reasonable timeframe: 'less than one hour', 'under a day', ... -->\n",
    "\n",
    "## What to expect <a name=\"expect\"></a>\n",
    "<!-- Describe at a high level what the user can expect when going through the tutorial -->\n",
    "We will be using a ... <!--- items, software, etc. that are used in the tutorial. Can be something that makes things easier -->.\n",
    "Each step of this tutorial contains text describing what needs to be done and then presents code that performs those actions <!-- change to suit your situation -->.\n",
    "\n",
    "## Prerequisites <a name=\"prerequisites\"></a>\n",
    "<!-- Everything necessary to be ready for the tutorial -->\n",
    "To successfully complete this tutorial you will need to have ... <!-- items that are needed before using the tutorial -->.\n",
    "Additionally, the ... <!-- more requirements -->.\n",
    "<!-- Keep adding requirements as needed -->\n",
    "\n",
    "## Cautions <a name=\"cautions\"></a>\n",
    "<!-- Stuff to watch out for - especially potentially destructive actions - and how to prepare for an issue -->\n",
    "There are two main files in the Clowder dataset to be processed that, if they are in the dataset, will be overwritten.\n",
    "These files are the *experiment.yaml* file and the *extractors-opendronemap.txt* file.\n",
    "If you have placed these files in the dataset this tutorial will process, you should download them to preserve them."
   ]
  },
  {
   "cell_type": "markdown",
   "metadata": {},
   "source": [
    "---\n",
    "## Step 1 - Python Imports and Setup <a name=\"step1\"></a>\n",
    "<!-- For each step:\n",
    "- start with why we're performing the step\n",
    "- add in some reference information if that's helpful\n",
    "- list things that are needed for that section (as related to the code step)\n",
    "- add subsection on what somethings needed are\n",
    "- add subsection on why something is done/needed\n",
    "- how to read the code that follows: for example, what to replace, logic flows, etc.\n",
    "-->\n",
    "The first step is to let Python know which libraries you will be needing for your commands.\n",
    "\n",
    "We are also going to define the Clowder URL so the calls we make know which instance to access.\n",
    "You will need to replace the endpoint with the URL of your Clowder instance."
   ]
  },
  {
   "cell_type": "code",
   "execution_count": 8,
   "metadata": {},
   "outputs": [],
   "source": [
    "# Importing the libraries we will need\n",
    "import pipelineutils\n",
    "\n",
    "clowder_url=\"https://my.clowder.path\"    # Replace this value with your Clowder URL"
   ]
  },
  {
   "cell_type": "markdown",
   "metadata": {},
   "source": [
    "---\n",
    "## Step 2 - the next step <a name=\"step2\"></a>\n",
    "<!-- The next step: \n",
    "- start with why we're performing the step\n",
    "- add in some reference information if that's helpful\n",
    "- list things that are needed for that section (as related to the code step)\n",
    "- add subsection on what somethings needed are\n",
    "- add subsection on why something is done/needed\n",
    "- how to read the code that follows: for example, what to replace, logic flows, etc.\n",
    "-->"
   ]
  },
  {
   "cell_type": "code",
   "execution_count": null,
   "metadata": {},
   "outputs": [],
   "source": [
    "# Provide experiment information for the extractor\n",
    "experiment = prepare_experiment(\"<study name>\",   # Replace <study name> with your study name\n",
    "                                \"<season name>\",  # Replace <season name> with your season name\n",
    "                                \"<timestamp>\"     # Replace <timestamp> with your timestamp\n",
    "                               )"
   ]
  },
  {
   "cell_type": "markdown",
   "metadata": {},
   "source": [
    "<!-- Have sections explaining what the result will be/might be. Especially useful is information on how to determine success -->\n",
    "Assuming a study name of \"Height 2019\", a season of \"Season 3\", and a data capture timestamp of \"2019-05-31T14:20:40-08:00\", you would have the following as your experiment data after making the call:\n",
    "```python\n",
    "experiment = {\n",
    "    \"studyName\": \"Height 2019\",\n",
    "    \"season\": \"Season 3\",\n",
    "    \"observationTimestamp\": \"2019-05-31T14:20:40-08:00\"\n",
    "}\n",
    "```"
   ]
  },
  {
   "cell_type": "markdown",
   "metadata": {},
   "source": [
    "---\n",
    "## Completed <a name=\"completed\"></a>\n",
    "<!-- Let them know they have finished, remind them of what they've learned, where to do more, etc. -->\n",
    "Congratulations! You have successfully submitted a request ... <!-- Statement of completion -->\n",
    "\n",
    "At this time you should be able to ... <!-- main accomplishment -->\n",
    "Additionally, you can take this approach and ... <!-- other accomplishments and abilities -->\n",
    "Finally, you can ... <!-- The more accomplishments the better -->\n",
    "\n",
    "We invite you to take a look at the other tutorials we have available. <!-- Reference helpful items you have -->\n",
    "\n",
    "## Feedback <a name=\"feedback\"></a>\n",
    "<!-- It's always good to have an easy feedback mechanism as well as something more rigorous -->\n",
    "We always enjoy hearing how much people like our tutorials, or how to improve them.\n",
    "If you would like suggest something new or have something changed, please [record an issue](https://github.com/not-a-real-link/issues)."
   ]
  },
  {
   "cell_type": "markdown",
   "metadata": {},
   "source": [
    "## References <a name=\"references\"></a>\n",
    "<!-- References to other documentation, tutorials, etc for further exploration is helpful -->\n",
    "The main site for the XYA project, including the Drone Pipeline, is on [GitHub](https://github.com/not-a-real-link).\n",
    "\n",
    "Non-technical documentation for the ABC is on [OSF](https://osf.io/not-a-real-link/)."
   ]
  },
  {
   "cell_type": "markdown",
   "metadata": {},
   "source": [
    "## Acknowledgements <a name=\"acknowledgements\"></a>\n",
    "<!-- Acknowledge contributors including reviewers. Make sure the acknowledgement says the correct things by checking with the individual or organization -->\n",
    "This tutorial was written by Christophe Schnaufer, University of Arizona, Tuscon AZ"
   ]
  }
 ],
 "metadata": {
  "kernelspec": {
   "display_name": "Python 3",
   "language": "python",
   "name": "python3"
  },
  "language_info": {
   "codemirror_mode": {
    "name": "ipython",
    "version": 3
   },
   "file_extension": ".py",
   "mimetype": "text/x-python",
   "name": "python",
   "nbconvert_exporter": "python",
   "pygments_lexer": "ipython3",
   "version": "3.7.3"
  }
 },
 "nbformat": 4,
 "nbformat_minor": 2
}
