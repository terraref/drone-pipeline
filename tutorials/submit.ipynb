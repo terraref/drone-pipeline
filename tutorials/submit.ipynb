{
 "cells": [
  {
   "cell_type": "markdown",
   "metadata": {},
   "source": [
    "# Submitting an Extractor Job\n",
    "This Jupyter Notebook tutorial uses Python to show the steps needed get your data processed by an extractor. In this tutorial we will be using the OpenDroneMap extractor. The same process can be used for any extractor although some extractor-specific details may vary."
   ]
  },
  {
   "cell_type": "markdown",
   "metadata": {},
   "source": [
    "---\n",
    "### Contents\n",
    "- [Overview](#overview)\n",
    "- [Audience](#audience)\n",
    "- [What to expect](#expect)\n",
    "- [Prerequisites](#prerequisites)\n",
    "- [Cautions](#cautions)\n",
    "- [Step 1 - Python Imports and Setup](#step1)\n",
    "- [Step 2 - Specify the Experiment](#step2)\n",
    "- [Step 3 - Required Request Parameters](#step3)\n",
    "- [Step 4 - Optional Request Parameters](#step4)\n",
    "- [Step 5 - Making the Request](#step5)\n",
    "- [Completed](#completed)\n",
    "- [Feedback](#feedback)\n",
    "- [References](#references)\n",
    "- [Acknowledgements](#acknowledgements)\n",
    "---"
   ]
  },
  {
   "cell_type": "markdown",
   "metadata": {},
   "source": [
    "## Overview\n",
    "This tutorial covers how to use Python within a dockerized Jupyter notebook to send a request to Clowder to start processing a set of previously loaded drone data.\n",
    "Completing this tutorial will provide the background for submitting other extractor requests and determining if the requests are successful.\n",
    "\n",
    "## Audience\n",
    "This notebook is for people that want to learn how to process drone data using the Clowder-based Drone Pipeline.\n",
    "\n",
    "It's helpful, but not necessary, to be familiar with Jupyter Notebooks and, perhaps, have some experience with Python.\n",
    "\n",
    "## What to expect <a name=\"expect\"></a>\n",
    "We will be using a Python library to do most of the work for us.\n",
    "Each step of this tutorial contains text describing what needs to be done and then presents code that performs those actions.\n",
    "\n",
    "In the code cells below, we will be loading the pipelineutils library, defining variables that provide information about the experiment and our Clowder credentials, and then making the request to start the extractor using the variables we defined.\n",
    "\n",
    "You will need to modify the code cells to match your actual data (sample data will work as well)."
   ]
  },
  {
   "cell_type": "markdown",
   "metadata": {},
   "source": [
    "## Prerequisites <a name=\"prerequisites\"></a>\n",
    "To successfully complete this tutorial you will need to have an existing Clowder account and have data loaded into a dataset.\n",
    "Additionally, the Python `pipelineutils` library will need to have been installed on the Jupyter Notebook instance this tutorial is running on.\n",
    "\n",
    ">Perform the following steps to install the `pipelineutils` library:\n",
    ">1. click the \"New Launcher\" icon and select a terminal\n",
    ">2. In the terminal window execute the following command <em>'pip install pipelineutils'</em> to install the library\n",
    ">\n",
    ">If you are having trouble installing, try adding a version number to the install request. Assuming the latest version is 1.0.4, your command would look like <em>'pip install pipelineutils==1.0.4'</em>\n",
    "\n",
    "You can create a Clowder account at the [Drone Processing Pipeline](https://dronepipeline.cyverse.org/) instance of Clowder. Once you have your account, create a dataset and load a flight's worth of data into the dataset."
   ]
  },
  {
   "cell_type": "markdown",
   "metadata": {},
   "source": [
    "## Cautions <a name=\"cautions\"></a>\n",
    "There are two main files in the Clowder dataset to be processed that, if they are in the dataset, will be overwritten.\n",
    "These files are the *experiment.yaml* file and the *extractors-opendronemap.txt* file.\n",
    "If you have placed these files in the dataset this tutorial will process, you should download them to preserve them."
   ]
  },
  {
   "cell_type": "markdown",
   "metadata": {},
   "source": [
    "---\n",
    "## Step 1 - Python Imports and Setup <a name=\"step1\"></a>\n",
    "The first step is to let Python know which libraries you will be needing for your commands.\n",
    "\n",
    "We are also going to define the Clowder URL so the calls we make know which instance to access.\n",
    "You will need to replace the endpoint with the URL of your Clowder instance."
   ]
  },
  {
   "cell_type": "code",
   "execution_count": null,
   "metadata": {},
   "outputs": [],
   "source": [
    "# Importing the libraries we will need\n",
    "import pipelineutils.pipelineutils as dpu\n",
    "\n",
    "clowder_url=\"https://dronepipeline.cyverse.org\"    # Replace this value with your Clowder URL"
   ]
  },
  {
   "cell_type": "markdown",
   "metadata": {},
   "source": [
    "---\n",
    "## Step 2 - Specify your Experiment <a name=\"step2\"></a>\n",
    "There are several pieces of information needed by the extractor for its processing.\n",
    "We are focused on the OpenDroneMap extractor in this tutorial and are providing the information that it needs.\n",
    "Other extractors have different requirements which can be found with their documentation.\n",
    "\n",
    "The timestamp needed is an ISO 8601 timestamp, formatted as a complete date with hours, minutes, and seconds: `YYYY-MM-DDThh:mm:ssTZD`.\n",
    "\n",
    "Each of the angle bracket values that are shown below, and the text within them, need to be replaced with your values.\n",
    "For example, if your study name is \"Height 2019\", you would replace \"&lt;study name&gt;\" with \"Height 2019\"."
   ]
  },
  {
   "cell_type": "code",
   "execution_count": null,
   "metadata": {},
   "outputs": [],
   "source": [
    "# Provide experiment information for the extractor\n",
    "experiment = dpu.prepare_experiment(\"<study name>\",   # Replace <study name> with your study name\n",
    "                                    \"<season name>\",  # Replace <season name> with your season name\n",
    "                                    \"<timestamp>\"     # Replace <timestamp> with your timestamp\n",
    "                                   )\n",
    "\n",
    "# Display what we have\n",
    "print(experiment)"
   ]
  },
  {
   "cell_type": "markdown",
   "metadata": {},
   "source": [
    "Assuming a study name of \"Height 2019\", a season of \"Season 3\", and a data capture timestamp of \"2019-05-31T14:20:40-08:00\", you would have the following as your experiment data after making the call:\n",
    "```python\n",
    "experiment = {\n",
    "    \"studyName\": \"Height 2019\",\n",
    "    \"season\": \"Season 3\",\n",
    "    \"observationTimeStamp\": \"2019-05-31T14:20:40-08:00\"\n",
    "}\n",
    "```"
   ]
  },
  {
   "cell_type": "markdown",
   "metadata": {},
   "source": [
    "---\n",
    "## Step 3 - Required Request Parameters <a name=\"step3\"></a>\n",
    "We have encountered two of the call parameters above when we configured the Clowder URL and the experiment.\n",
    "\n",
    "### What they are\n",
    "The additional required parameters are your Clowder credentials, the dataset name, the name of a space in Clowder, and the extractor name.\n",
    "- username and password: these are your Clowder login credentials\n",
    "- dataset: the name of the loaded drone data to process\n",
    "- extractor: the shorthand name of the extractor\n",
    "- space name: location where the results of processing will be organized\n",
    "\n",
    "### Why they're needed\n",
    "The credentials are used to access Clowder on your behalf; the dataset name is used to identify where the data resides that should be processed; a space name is where resulting data is organized in Clowder; the extractor name identifies which extractor we'll be running."
   ]
  },
  {
   "cell_type": "code",
   "execution_count": null,
   "metadata": {},
   "outputs": [],
   "source": [
    "# Specify required parameters\n",
    "username=\"email@address\"         # The Clowder username portion of credentials\n",
    "password=\"password\"              # The password associated with the Clowder username\n",
    "dataset=\"my dataset\"             # The dataset to associate with the extractor request\n",
    "extractor=\"opendronemap\"         # The extractor to run. Note that this is not the full Clowder name\n",
    "space_name=\"Processed\"           # The space name for processed data organization"
   ]
  },
  {
   "cell_type": "markdown",
   "metadata": {},
   "source": [
    "---\n",
    "## Step 4 - Optional Request Parameters <a name=\"step4\"></a>\n",
    "In addition to the required parameters described above, there are other parameters that could be specified when we make the call.\n",
    "\n",
    "### What they are\n",
    "The `space_must_exist` optional parameter has three values: *None*, *False*, and *True*.\n",
    "The default value for this parameter is `None` indicating that an attempt will be made to create the space in Clowder if it doesn't already exist.\n",
    "If the value for this parameter is changed to `True`, the space must already exist in Clowder when the call is made or an error will be returned.\n",
    "If the value for this parameter is `False`, then the space must *not* exist when the call is made or an error is returned. \n",
    "If `False` is specified and the space does not exist, it's created before the extractor is run.\n",
    "\n",
    "The `config_file` optional parameter defaults to `None` indicating that there isn't a configuration file specified. \n",
    "This parameter can be overridden with the path to a configuration file or a with a configuration string. \n",
    "In our case we will use an empty string as our OpenDroneMap configuration override - indicating we will accept the default configuration.\n",
    "Refer to the [extractors-opendronemap.txt.sample](https://opensource.ncsa.illinois.edu/bitbucket/projects/CATS/repos/extractors-opendronemap/browse/extractors-opendronemap.txt.sample?at=refs%2Fheads%2Fupdate_odm_extractor) file in BitBucket for more information on the contents of the OpenDroneMap extractor configuration overrides.\n",
    "\n",
    "The `api_key` optional parameter is used when a specific key is to be used when making calls to clowder.\n",
    "The default behavior by the library is to fetch a key associated with the username and password and then used to make calls.\n",
    "Specifying a key will override this behavior.\n",
    "The default value for this parameter is `None`."
   ]
  },
  {
   "cell_type": "code",
   "execution_count": null,
   "metadata": {},
   "outputs": [],
   "source": [
    "# Defining optional parameters\n",
    "space_must_exist=None           # The variable name does not need to be the same as the parameter name\n",
    "config_file=\"\"                  # We are using a string to indicate acceptance of the default configuration\n",
    "api_key=None                    # The Clowder API key to use when making requests"
   ]
  },
  {
   "cell_type": "markdown",
   "metadata": {},
   "source": [
    "---\n",
    "## Step 5 - Making the Request <a name=\"step5\"></a>\n",
    "We are now ready to make the call to schedule the OpenDroneMap extractor. \n",
    "In our example below we will only be using the required parameters, but you are free to experiment with using the optional parameters."
   ]
  },
  {
   "cell_type": "code",
   "execution_count": null,
   "metadata": {},
   "outputs": [],
   "source": [
    "# Make the call\n",
    "res = dpu.start_extractor(clowder_url,      # The URL of Clowder instance\n",
    "                          experiment,       # Experiment configuration\n",
    "                          username,         # The username portion of Clowder credentials\n",
    "                          password,         # The password associated with the username\n",
    "                          dataset,          # The dataset to associate with the extractor\n",
    "                          extractor,        # Name of the extractor to schedule\n",
    "                          space_name,       # Name of the target space\n",
    "                          config_file=config_file # The configuration to submit the job with\n",
    "                         )\n",
    "\n",
    "# Check the result for a problem\n",
    "if res == False:\n",
    "    raise RuntimeError\n",
    "    \n",
    "# Everything is OK\n",
    "print(\"Extractor request submitted\")"
   ]
  },
  {
   "cell_type": "markdown",
   "metadata": {},
   "source": [
    "---\n",
    "## Completed <a name=\"completed\"></a>\n",
    "Congratulations! You have successfully submitted a request to process data.\n",
    "\n",
    "At this time you should be able to submit OpenDroneMap jobs on other drone flights.\n",
    "Additionally, you can take this approach and start other extractor jobs.\n",
    "Finally, you can customize the order in which extractors are run to produce you own custom workflow.\n",
    "\n",
    "We invite you to take a look at the other tutorials we have available.\n",
    "\n",
    "## Feedback <a name=\"feedback\"></a>\n",
    "We always enjoy hearing how much people like our tutorials, or how to improve them.\n",
    "If you would like suggest something new or have something changed, please [record an issue](https://github.com/terraref/computing-pipeline/issues)."
   ]
  },
  {
   "cell_type": "markdown",
   "metadata": {},
   "source": [
    "## References <a name=\"references\"></a>\n",
    "The main site for the TERRA REF project, including the Drone Pipeline, is on [GitHub](https://github.com/terraref).\n",
    "\n",
    "Non-technical documentation for the Drone Pipeline is on [OSF](https://osf.io/xdkcy/)."
   ]
  },
  {
   "cell_type": "markdown",
   "metadata": {},
   "source": [
    "## Acknowledgements <a name=\"acknowledgements\"></a>\n",
    "This tutorial was written by Christophe Schnaufer, University of Arizona, Tuscon AZ"
   ]
  }
 ],
 "metadata": {
  "kernelspec": {
   "display_name": "Python 3",
   "language": "python",
   "name": "python3"
  },
  "language_info": {
   "codemirror_mode": {
    "name": "ipython",
    "version": 3
   },
   "file_extension": ".py",
   "mimetype": "text/x-python",
   "name": "python",
   "nbconvert_exporter": "python",
   "pygments_lexer": "ipython3",
   "version": "3.7.3"
  }
 },
 "nbformat": 4,
 "nbformat_minor": 2
}
